{
 "cells": [
  {
   "cell_type": "markdown",
   "metadata": {},
   "source": [
    "Our goal in this section of the lesson is to train decision trees to perform classification of unseen data.\n",
    "\n",
    "To train a decision tree is to construct it. And we construct the tree from a dataset. But what dataset will we use? Luckily, scikit-learn has some built in!"
   ]
  },
  {
   "cell_type": "markdown",
   "metadata": {},
   "source": [
    "# Exploring datasets"
   ]
  },
  {
   "cell_type": "markdown",
   "metadata": {},
   "source": [
    "There is a built-in dataset about iris flowers: it suffices to import the `load_iris` function from the `sklearn.datasets` module, and call it to get the dataset."
   ]
  },
  {
   "cell_type": "code",
   "execution_count": null,
   "metadata": {},
   "outputs": [],
   "source": [
    "from sklearn.datasets import load_iris\n",
    "dataset = load_iris()"
   ]
  },
  {
   "cell_type": "code",
   "execution_count": null,
   "metadata": {},
   "outputs": [],
   "source": [
    "# But what's a dataset? Let's have a look.\n",
    "# Simply evaluate this cell.\n",
    "dataset"
   ]
  },
  {
   "cell_type": "markdown",
   "metadata": {},
   "source": [
    "Remember from last time how we interactively got documentation on any variable?\n",
    "\n",
    "__Question:__ Find out what this `dataset` variable is.\n",
    "\n",
    "Hint: look at the last character from the first line of this cell."
   ]
  },
  {
   "cell_type": "code",
   "execution_count": null,
   "metadata": {
    "scrolled": true
   },
   "outputs": [],
   "source": [
    "# Your exploration here:\n"
   ]
  },
  {
   "cell_type": "markdown",
   "metadata": {},
   "source": [
    "__Question:__ what do we write to get the names of the features out of the dataset?"
   ]
  },
  {
   "cell_type": "code",
   "execution_count": null,
   "metadata": {},
   "outputs": [],
   "source": [
    "# Your code here:\n"
   ]
  },
  {
   "cell_type": "markdown",
   "metadata": {},
   "source": [
    "So this dataset has 4 features in it, all measured in centimeters, and referring to some physical measurements of the flowers."
   ]
  },
  {
   "cell_type": "markdown",
   "metadata": {},
   "source": [
    "The `data` and `target` entries in the dataset really are the data, whereas the `target_names` and `feature_names` entries are *metadata*; they tell us about the interpretation of the data.\n",
    "\n",
    "The `data` and `target` entries are related. Let's see how."
   ]
  },
  {
   "cell_type": "code",
   "execution_count": null,
   "metadata": {},
   "outputs": [],
   "source": [
    "# The first entry of dataset['data'] is some measurements about a flower,\n",
    "# and the first element of dataset['target'] tells us which kind of flower that is.\n",
    "dataset['data'][0], dataset['target'][0]"
   ]
  },
  {
   "cell_type": "markdown",
   "metadata": {},
   "source": [
    "So the data point `[5.1, 3.5, 1.4, 0.2]` is labelled `0`, which represents a flower species."
   ]
  },
  {
   "cell_type": "markdown",
   "metadata": {},
   "source": [
    "## Visual intuition for the dataset\n",
    "\n",
    "Let's quickly get some intuition for what this dataset looks like by plotting it. Jupyter notebooks have built-in integration with the Python plotting library matplotlib. All this comes pre-installed with Anaconda.\n",
    "\n",
    "Don't pay too much attention to the code here; we just want to get a quick visualization."
   ]
  },
  {
   "cell_type": "code",
   "execution_count": null,
   "metadata": {},
   "outputs": [],
   "source": [
    "# Just evaluate this cell. Dig into the code on your own later.\n",
    "import matplotlib.pyplot as plt\n",
    "%matplotlib inline\n",
    "both = list(zip(((x[0], x[2]) for x in dataset['data']), dataset['target']))\n",
    "for i, mark in zip(set(dataset['target']), '^ov+'):\n",
    "    X, Y = list(zip(*[p for p, d in both if d == i]))\n",
    "    plt.scatter(X, Y, marker=mark)\n",
    "plt.show()"
   ]
  },
  {
   "cell_type": "markdown",
   "metadata": {},
   "source": [
    "This scatter plot uses the first feature for the X coordinate and the third feature for the Y coordinate; those are the sepal length and petal length, respectively. The different flower types are represented as different symbols in the plot."
   ]
  },
  {
   "cell_type": "markdown",
   "metadata": {},
   "source": [
    "### Questions\n",
    "\n",
    "1. How many different _labels_ are there in this dataset?\n",
    "2. How many _features_ does this plot consider? How many _features_ are there in total?\n",
    "3. Using code, find out what the names of the flowers are in this dataset. Hint: you need to look up something in the `dataset` dictionary.\n",
    "4. Using code, find out how many points there are in this dataset. Hint: use the `len` function."
   ]
  },
  {
   "cell_type": "code",
   "execution_count": null,
   "metadata": {},
   "outputs": [],
   "source": [
    "# Your solution to question 3 here:\n"
   ]
  },
  {
   "cell_type": "code",
   "execution_count": null,
   "metadata": {},
   "outputs": [],
   "source": [
    "# Your solution to question 4 here:\n"
   ]
  },
  {
   "cell_type": "markdown",
   "metadata": {},
   "source": [
    "# Decision trees\n",
    "\n",
    "We are using decision trees as *classifiers*. In this notebook, you'll explore using the `DecisionTreeClassifier` from scikit-learn to construct decision trees."
   ]
  },
  {
   "cell_type": "code",
   "execution_count": null,
   "metadata": {},
   "outputs": [],
   "source": [
    "from sklearn import tree"
   ]
  },
  {
   "cell_type": "markdown",
   "metadata": {},
   "source": [
    "We import the `tree` module from the `sklearn` library. This module contains the `DecisionTreeClassifier`.\n",
    "\n",
    "We can create a new classifier by calling `DecisionTreeClassifier`."
   ]
  },
  {
   "cell_type": "code",
   "execution_count": null,
   "metadata": {},
   "outputs": [],
   "source": [
    "classifier = tree.DecisionTreeClassifier()"
   ]
  },
  {
   "cell_type": "markdown",
   "metadata": {},
   "source": [
    "We use the `.` operator to reach inside the module; since `DecisionTreeClassifier` is inside the `tree` module, we specify to Python to look inside the tree module (which we imported) and run the function `DecisionTreeClassifier`."
   ]
  },
  {
   "cell_type": "markdown",
   "metadata": {},
   "source": [
    "Now we want to train our classifier on the dataset we loaded earlier.\n",
    "\n",
    "We do this using the `fit` function inside `classifier`. The `fit` function takes two inputs:\n",
    "1. a list of X values (feature measurements)\n",
    "2. a list of Y values (labels)\n",
    "\n",
    "These two lists must have the same size!\n",
    "\n",
    "__Question:__ Use the `fit` function to train the model. What X and Y values do we use? Hint: they're entries inside `dataset`."
   ]
  },
  {
   "cell_type": "code",
   "execution_count": null,
   "metadata": {},
   "outputs": [],
   "source": [
    "# Your answer:\n"
   ]
  },
  {
   "cell_type": "markdown",
   "metadata": {},
   "source": [
    "We can visualize the decision tree that was created. Again, don't pay too much attention to this code; we could teach a separate course just about data visualization!"
   ]
  },
  {
   "cell_type": "code",
   "execution_count": null,
   "metadata": {
    "scrolled": true
   },
   "outputs": [],
   "source": [
    "import graphviz # the library we need to visualize trees and graphs\n",
    "\n",
    "# Define the visualization code as a function so we can reuse it later!\n",
    "def visualize_tree(clf):\n",
    "    dot_data = tree.export_graphviz(clf, feature_names=dataset['feature_names'], filled=True)\n",
    "    return graphviz.Source(dot_data)\n",
    "\n",
    "visualize_tree(classifier)"
   ]
  },
  {
   "cell_type": "markdown",
   "metadata": {},
   "source": [
    "This code *might* not work on your computer. (Possibly graphviz isn't installed; it's somewhat tricky to install.)\n",
    "In this case, you can download the visualization [here](https://computing-workshop.com/lessons/W19/ml-2/graphviz/tree.pdf)."
   ]
  },
  {
   "cell_type": "markdown",
   "metadata": {},
   "source": [
    "__Questions:__\n",
    "1. What is the interpretation of the colors in the tree?\n",
    "2. In each node of the tree, what is the relationship between the `samples = N` line and the `value = [...]` line?\n",
    "3. Notice that in all the teal and purple nodes, the first count in `value` is always zero. Why is that?\n",
    "4. What is the meaning of the `value` in each node?\n",
    "5. Invent three data points. Choose feature values so that the first point falls into the orange leaf; the second, into the teal leaf; and the third, into the most purple leaf. Recall that leaves are nodes with no children.\n",
    "   For example, a point with `petal width = 2.0` would follow the False branch of the root node. Choose the other parameters so that the point arrives at the desired classification."
   ]
  },
  {
   "cell_type": "markdown",
   "metadata": {},
   "source": [
    "Oops, the analysis above trained the classifier on the whole dataset. We have no good way now to check whether our model is any good on _unseen_ points; it got to see all of them!\n",
    "\n",
    "Now let's do a train-test split and properly assess whether this classifier is any good. You might want to open up the notebook with last time's code. (See https://computing-workshop.com/courses.html as usual.)"
   ]
  },
  {
   "cell_type": "code",
   "execution_count": null,
   "metadata": {},
   "outputs": [],
   "source": []
  }
 ],
 "metadata": {
  "kernelspec": {
   "display_name": "Python 3 (ipykernel)",
   "language": "python",
   "name": "python3"
  },
  "language_info": {
   "codemirror_mode": {
    "name": "ipython",
    "version": 3
   },
   "file_extension": ".py",
   "mimetype": "text/x-python",
   "name": "python",
   "nbconvert_exporter": "python",
   "pygments_lexer": "ipython3",
   "version": "3.10.9"
  }
 },
 "nbformat": 4,
 "nbformat_minor": 2
}
