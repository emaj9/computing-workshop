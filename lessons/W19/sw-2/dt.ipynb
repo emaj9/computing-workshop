{
 "cells": [
  {
   "cell_type": "markdown",
   "metadata": {},
   "source": [
    "Our goal in this section of the lesson is to train decision trees to perform classification of unseen data.\n",
    "\n",
    "To train a decision tree is to construct it. And we construct the tree from a dataset. But what dataset will we use? Luckily, scikit-learn has some built in!"
   ]
  },
  {
   "cell_type": "markdown",
   "metadata": {},
   "source": [
    "# Exploring datasets"
   ]
  },
  {
   "cell_type": "markdown",
   "metadata": {},
   "source": [
    "There is a built-in dataset about iris flowers: it suffices to import the `load_iris` function from the `sklearn.datasets` module, and call it to get the dataset."
   ]
  },
  {
   "cell_type": "code",
   "execution_count": null,
   "metadata": {},
   "outputs": [],
   "source": [
    "from sklearn.datasets import load_iris\n",
    "dataset = load_iris()"
   ]
  },
  {
   "cell_type": "code",
   "execution_count": null,
   "metadata": {},
   "outputs": [],
   "source": [
    "# But what's a dataset? Let's have a look.\n",
    "dataset"
   ]
  },
  {
   "cell_type": "markdown",
   "metadata": {},
   "source": [
    "__Question:__ what's the type of dataset?"
   ]
  },
  {
   "cell_type": "code",
   "execution_count": null,
   "metadata": {},
   "outputs": [],
   "source": [
    "# Whoa. One thing we can see is that it's a dictionary.\n",
    "# We can see what all the keys in the dictionary are by using the `keys` function.\n",
    "dataset.keys()"
   ]
  },
  {
   "cell_type": "markdown",
   "metadata": {},
   "source": [
    "__Question:__ what do we write to get the names of the features out of the dataset?"
   ]
  },
  {
   "cell_type": "code",
   "execution_count": null,
   "metadata": {},
   "outputs": [],
   "source": [
    "# Great! We can see what the features are by looking at the feature_names entry.\n",
    "dataset['feature_names']"
   ]
  },
  {
   "cell_type": "markdown",
   "metadata": {},
   "source": [
    "So this dataset has 4 features in it, all measured in centimeters, and referring to some physical measurements of the flowers."
   ]
  },
  {
   "cell_type": "markdown",
   "metadata": {},
   "source": [
    "The `data` and `target` entries in the dataset really are the data, whereas the `target_names` and `feature_names` entries are *metadata*; they tell us about the interpretation of the data.\n",
    "\n",
    "The `data` and `target` entries are related. Let's see how."
   ]
  },
  {
   "cell_type": "code",
   "execution_count": null,
   "metadata": {},
   "outputs": [],
   "source": [
    "# The first entry of dataset['data'] is some measurements about a flower,\n",
    "# and the first element of dataset['target'] tells us which kind of flower that is.\n",
    "dataset['data'][0], dataset['target'][0]"
   ]
  },
  {
   "cell_type": "markdown",
   "metadata": {},
   "source": [
    "So the data point `[5.1, 3.5, 1.4, 0.2]` is labelled `0`. Apparently, `0` is a kind of flower!"
   ]
  },
  {
   "cell_type": "markdown",
   "metadata": {},
   "source": [
    "## Visual intuition for the dataset\n",
    "\n",
    "Let's quickly get some intuition for what this dataset looks like by plotting it. Jupyter notebooks have built-in integration with the Python plotting library matplotlib. All this comes pre-installed with Anaconda.\n",
    "\n",
    "Don't pay too much attention to the code here; we just want to get a quick visualization."
   ]
  },
  {
   "cell_type": "code",
   "execution_count": 118,
   "metadata": {},
   "outputs": [
    {
     "data": {
      "image/png": "[encoded data removed]",
      "text/plain": [
       "<Figure size 432x288 with 1 Axes>"
      ]
     },
     "metadata": {
      "needs_background": "light"
     },
     "output_type": "display_data"
    }
   ],
   "source": [
    "import matplotlib.pyplot as plt\n",
    "%matplotlib inline\n",
    "both = list(zip(((x[0], x[2]) for x in dataset['data']), dataset['target']))\n",
    "for i, mark in zip(set(dataset['target']), '^ov+'):\n",
    "    X, Y = list(zip(*[p for p, d in both if d == i]))\n",
    "    plt.scatter(X, Y, marker=mark)\n",
    "plt.show()"
   ]
  },
  {
   "cell_type": "markdown",
   "metadata": {},
   "source": [
    "This scatter plot uses the first feature for the X coordinate and the third feature for the Y coordinate; those are the sepal length and petal length, respectively. The different flower types are represented as different symbols in the plot."
   ]
  },
  {
   "cell_type": "markdown",
   "metadata": {},
   "source": [
    "### Questions\n",
    "\n",
    "1. How many different labels are there in this dataset?\n",
    "2. How many features does this plot consider? How many features are there in total?\n",
    "3. Using code, find out what the names of the flowers are in this dataset. Hint: you need to look up something in the `dataset` dictionary.\n",
    "4. Using code, find out how many points there are in this dataset. Hint: use the `len` function."
   ]
  },
  {
   "cell_type": "code",
   "execution_count": null,
   "metadata": {},
   "outputs": [],
   "source": [
    "# Your solution to question 3 here:\n"
   ]
  },
  {
   "cell_type": "code",
   "execution_count": null,
   "metadata": {},
   "outputs": [],
   "source": [
    "# Your solution to question 4 here:\n"
   ]
  },
  {
   "cell_type": "markdown",
   "metadata": {},
   "source": [
    "# Decision trees\n",
    "\n",
    "We saw decision trees in the first lesson, and we made them by hand. Today we're going to let the computers do the computing, and generate decision trees _programmatically!_\n",
    "\n",
    "Remember, decision trees are used as *classifiers*. In this notebook, you'll explore using the `DecisionTreeClassifier` from scikit-learn to construct decision trees."
   ]
  },
  {
   "cell_type": "code",
   "execution_count": null,
   "metadata": {},
   "outputs": [],
   "source": [
    "from sklearn import tree"
   ]
  },
  {
   "cell_type": "markdown",
   "metadata": {},
   "source": [
    "We import the `tree` module from the `sklearn` library. This module contains the `DecisionTreeClassifier`.\n",
    "\n",
    "We can create a new classifier by calling `DecisionTreeClassifier`."
   ]
  },
  {
   "cell_type": "code",
   "execution_count": 115,
   "metadata": {},
   "outputs": [],
   "source": [
    "classifier = tree.DecisionTreeClassifier(max_depth=3)"
   ]
  },
  {
   "cell_type": "markdown",
   "metadata": {},
   "source": [
    "We use the `.` operator to reach inside the module; since `DecisionTreeClassifier` is inside the `tree` module, we specify to Python to look inside the tree module (which we imported) and run the function `DecisionTreeClassifier`."
   ]
  },
  {
   "cell_type": "markdown",
   "metadata": {},
   "source": [
    "Now we want to train our classifier on the dataset we loaded earlier.\n",
    "\n",
    "We do this using the `fit` function inside `classifier`. The `fit` function takes two inputs:\n",
    "1. a list of X values (feature measurements)\n",
    "2. a list of Y values (labels)\n",
    "\n",
    "These two lists must have the same size!\n",
    "\n",
    "__Question:__ Use the `fit` function to train the model. What X and Y values do we use? Hint: they're entries inside `dataset`."
   ]
  },
  {
   "cell_type": "code",
   "execution_count": null,
   "metadata": {},
   "outputs": [],
   "source": [
    "# Your answer; replace the question marks:\n",
    "classifier.fit(?, ?)"
   ]
  },
  {
   "cell_type": "code",
   "execution_count": 116,
   "metadata": {},
   "outputs": [
    {
     "data": {
      "text/plain": [
       "DecisionTreeClassifier(class_weight=None, criterion='gini', max_depth=3,\n",
       "            max_features=None, max_leaf_nodes=None,\n",
       "            min_impurity_decrease=0.0, min_impurity_split=None,\n",
       "            min_samples_leaf=1, min_samples_split=2,\n",
       "            min_weight_fraction_leaf=0.0, presort=False, random_state=None,\n",
       "            splitter='best')"
      ]
     },
     "execution_count": 116,
     "metadata": {},
     "output_type": "execute_result"
    }
   ],
   "source": [
    "# SOLUTION\n",
    "classifier.fit(dataset['data'], dataset['target'])"
   ]
  },
  {
   "cell_type": "markdown",
   "metadata": {},
   "source": [
    "We can visualize the decision tree that was created. Again, don't pay too much attention to this code; you could teach a separate course just about data visualization!"
   ]
  },
  {
   "cell_type": "code",
   "execution_count": 117,
   "metadata": {
    "scrolled": true
   },
   "outputs": [
    {
     "data": {
      "image/svg+xml": [
       "<?xml version=\"1.0\" encoding=\"UTF-8\" standalone=\"no\"?>\n",
       "<!DOCTYPE svg PUBLIC \"-//W3C//DTD SVG 1.1//EN\"\n",
       " \"http://www.w3.org/Graphics/SVG/1.1/DTD/svg11.dtd\">\n",
       "<!-- Generated by graphviz version 2.40.1 (20161225.0304)\n",
       " -->\n",
       "<!-- Title: Tree Pages: 1 -->\n",
       "<svg width=\"641pt\" height=\"373pt\"\n",
       " viewBox=\"0.00 0.00 641.00 373.00\" xmlns=\"http://www.w3.org/2000/svg\" xmlns:xlink=\"http://www.w3.org/1999/xlink\">\n",
       "<g id=\"graph0\" class=\"graph\" transform=\"scale(1 1) rotate(0) translate(4 369)\">\n",
       "<title>Tree</title>\n",
       "<polygon fill=\"#ffffff\" stroke=\"transparent\" points=\"-4,4 -4,-369 637,-369 637,4 -4,4\"/>\n",
       "<!-- 0 -->\n",
       "<g id=\"node1\" class=\"node\">\n",
       "<title>0</title>\n",
       "<polygon fill=\"transparent\" stroke=\"#000000\" points=\"317,-365 127,-365 127,-297 317,-297 317,-365\"/>\n",
       "<text text-anchor=\"middle\" x=\"222\" y=\"-349.8\" font-family=\"Times,serif\" font-size=\"14.00\" fill=\"#000000\">petal width (cm) &lt;= 0.8</text>\n",
       "<text text-anchor=\"middle\" x=\"222\" y=\"-334.8\" font-family=\"Times,serif\" font-size=\"14.00\" fill=\"#000000\">gini = 0.667</text>\n",
       "<text text-anchor=\"middle\" x=\"222\" y=\"-319.8\" font-family=\"Times,serif\" font-size=\"14.00\" fill=\"#000000\">samples = 150</text>\n",
       "<text text-anchor=\"middle\" x=\"222\" y=\"-304.8\" font-family=\"Times,serif\" font-size=\"14.00\" fill=\"#000000\">value = [50, 50, 50]</text>\n",
       "</g>\n",
       "<!-- 1 -->\n",
       "<g id=\"node2\" class=\"node\">\n",
       "<title>1</title>\n",
       "<polygon fill=\"#e58139\" stroke=\"#000000\" points=\"198,-253.5 58,-253.5 58,-200.5 198,-200.5 198,-253.5\"/>\n",
       "<text text-anchor=\"middle\" x=\"128\" y=\"-238.3\" font-family=\"Times,serif\" font-size=\"14.00\" fill=\"#000000\">gini = 0.0</text>\n",
       "<text text-anchor=\"middle\" x=\"128\" y=\"-223.3\" font-family=\"Times,serif\" font-size=\"14.00\" fill=\"#000000\">samples = 50</text>\n",
       "<text text-anchor=\"middle\" x=\"128\" y=\"-208.3\" font-family=\"Times,serif\" font-size=\"14.00\" fill=\"#000000\">value = [50, 0, 0]</text>\n",
       "</g>\n",
       "<!-- 0&#45;&gt;1 -->\n",
       "<g id=\"edge1\" class=\"edge\">\n",
       "<title>0&#45;&gt;1</title>\n",
       "<path fill=\"none\" stroke=\"#000000\" d=\"M191.2209,-296.9465C180.8669,-285.491 169.3158,-272.711 158.9487,-261.2412\"/>\n",
       "<polygon fill=\"#000000\" stroke=\"#000000\" points=\"161.292,-258.614 151.99,-253.5422 156.0989,-263.3078 161.292,-258.614\"/>\n",
       "<text text-anchor=\"middle\" x=\"150.729\" y=\"-274.8103\" font-family=\"Times,serif\" font-size=\"14.00\" fill=\"#000000\">True</text>\n",
       "</g>\n",
       "<!-- 2 -->\n",
       "<g id=\"node3\" class=\"node\">\n",
       "<title>2</title>\n",
       "<polygon fill=\"transparent\" stroke=\"#000000\" points=\"415.5,-261 216.5,-261 216.5,-193 415.5,-193 415.5,-261\"/>\n",
       "<text text-anchor=\"middle\" x=\"316\" y=\"-245.8\" font-family=\"Times,serif\" font-size=\"14.00\" fill=\"#000000\">petal width (cm) &lt;= 1.75</text>\n",
       "<text text-anchor=\"middle\" x=\"316\" y=\"-230.8\" font-family=\"Times,serif\" font-size=\"14.00\" fill=\"#000000\">gini = 0.5</text>\n",
       "<text text-anchor=\"middle\" x=\"316\" y=\"-215.8\" font-family=\"Times,serif\" font-size=\"14.00\" fill=\"#000000\">samples = 100</text>\n",
       "<text text-anchor=\"middle\" x=\"316\" y=\"-200.8\" font-family=\"Times,serif\" font-size=\"14.00\" fill=\"#000000\">value = [0, 50, 50]</text>\n",
       "</g>\n",
       "<!-- 0&#45;&gt;2 -->\n",
       "<g id=\"edge2\" class=\"edge\">\n",
       "<title>0&#45;&gt;2</title>\n",
       "<path fill=\"none\" stroke=\"#000000\" d=\"M252.7791,-296.9465C260.9755,-287.8782 269.922,-277.9799 278.4375,-268.5585\"/>\n",
       "<polygon fill=\"#000000\" stroke=\"#000000\" points=\"281.0429,-270.8957 285.1517,-261.13 275.8497,-266.2019 281.0429,-270.8957\"/>\n",
       "<text text-anchor=\"middle\" x=\"286.4128\" y=\"-282.3982\" font-family=\"Times,serif\" font-size=\"14.00\" fill=\"#000000\">False</text>\n",
       "</g>\n",
       "<!-- 3 -->\n",
       "<g id=\"node4\" class=\"node\">\n",
       "<title>3</title>\n",
       "<polygon fill=\"#39e581\" fill-opacity=\"0.898039\" stroke=\"#000000\" points=\"307,-157 103,-157 103,-89 307,-89 307,-157\"/>\n",
       "<text text-anchor=\"middle\" x=\"205\" y=\"-141.8\" font-family=\"Times,serif\" font-size=\"14.00\" fill=\"#000000\">petal length (cm) &lt;= 4.95</text>\n",
       "<text text-anchor=\"middle\" x=\"205\" y=\"-126.8\" font-family=\"Times,serif\" font-size=\"14.00\" fill=\"#000000\">gini = 0.168</text>\n",
       "<text text-anchor=\"middle\" x=\"205\" y=\"-111.8\" font-family=\"Times,serif\" font-size=\"14.00\" fill=\"#000000\">samples = 54</text>\n",
       "<text text-anchor=\"middle\" x=\"205\" y=\"-96.8\" font-family=\"Times,serif\" font-size=\"14.00\" fill=\"#000000\">value = [0, 49, 5]</text>\n",
       "</g>\n",
       "<!-- 2&#45;&gt;3 -->\n",
       "<g id=\"edge3\" class=\"edge\">\n",
       "<title>2&#45;&gt;3</title>\n",
       "<path fill=\"none\" stroke=\"#000000\" d=\"M279.6544,-192.9465C269.7841,-183.6986 258.9925,-173.5876 248.759,-163.9994\"/>\n",
       "<polygon fill=\"#000000\" stroke=\"#000000\" points=\"251.1177,-161.4131 241.4272,-157.13 246.3316,-166.5214 251.1177,-161.4131\"/>\n",
       "</g>\n",
       "<!-- 6 -->\n",
       "<g id=\"node7\" class=\"node\">\n",
       "<title>6</title>\n",
       "<polygon fill=\"#8139e5\" fill-opacity=\"0.976471\" stroke=\"#000000\" points=\"529,-157 325,-157 325,-89 529,-89 529,-157\"/>\n",
       "<text text-anchor=\"middle\" x=\"427\" y=\"-141.8\" font-family=\"Times,serif\" font-size=\"14.00\" fill=\"#000000\">petal length (cm) &lt;= 4.85</text>\n",
       "<text text-anchor=\"middle\" x=\"427\" y=\"-126.8\" font-family=\"Times,serif\" font-size=\"14.00\" fill=\"#000000\">gini = 0.043</text>\n",
       "<text text-anchor=\"middle\" x=\"427\" y=\"-111.8\" font-family=\"Times,serif\" font-size=\"14.00\" fill=\"#000000\">samples = 46</text>\n",
       "<text text-anchor=\"middle\" x=\"427\" y=\"-96.8\" font-family=\"Times,serif\" font-size=\"14.00\" fill=\"#000000\">value = [0, 1, 45]</text>\n",
       "</g>\n",
       "<!-- 2&#45;&gt;6 -->\n",
       "<g id=\"edge6\" class=\"edge\">\n",
       "<title>2&#45;&gt;6</title>\n",
       "<path fill=\"none\" stroke=\"#000000\" d=\"M352.3456,-192.9465C362.2159,-183.6986 373.0075,-173.5876 383.241,-163.9994\"/>\n",
       "<polygon fill=\"#000000\" stroke=\"#000000\" points=\"385.6684,-166.5214 390.5728,-157.13 380.8823,-161.4131 385.6684,-166.5214\"/>\n",
       "</g>\n",
       "<!-- 4 -->\n",
       "<g id=\"node5\" class=\"node\">\n",
       "<title>4</title>\n",
       "<polygon fill=\"#39e581\" fill-opacity=\"0.980392\" stroke=\"#000000\" points=\"140,-53 0,-53 0,0 140,0 140,-53\"/>\n",
       "<text text-anchor=\"middle\" x=\"70\" y=\"-37.8\" font-family=\"Times,serif\" font-size=\"14.00\" fill=\"#000000\">gini = 0.041</text>\n",
       "<text text-anchor=\"middle\" x=\"70\" y=\"-22.8\" font-family=\"Times,serif\" font-size=\"14.00\" fill=\"#000000\">samples = 48</text>\n",
       "<text text-anchor=\"middle\" x=\"70\" y=\"-7.8\" font-family=\"Times,serif\" font-size=\"14.00\" fill=\"#000000\">value = [0, 47, 1]</text>\n",
       "</g>\n",
       "<!-- 3&#45;&gt;4 -->\n",
       "<g id=\"edge4\" class=\"edge\">\n",
       "<title>3&#45;&gt;4</title>\n",
       "<path fill=\"none\" stroke=\"#000000\" d=\"M157.4041,-88.9777C143.8252,-79.2713 129.0661,-68.7213 115.6088,-59.1018\"/>\n",
       "<polygon fill=\"#000000\" stroke=\"#000000\" points=\"117.5908,-56.2164 107.4202,-53.2485 113.5201,-61.9111 117.5908,-56.2164\"/>\n",
       "</g>\n",
       "<!-- 5 -->\n",
       "<g id=\"node6\" class=\"node\">\n",
       "<title>5</title>\n",
       "<polygon fill=\"#8139e5\" fill-opacity=\"0.498039\" stroke=\"#000000\" points=\"289.5,-53 158.5,-53 158.5,0 289.5,0 289.5,-53\"/>\n",
       "<text text-anchor=\"middle\" x=\"224\" y=\"-37.8\" font-family=\"Times,serif\" font-size=\"14.00\" fill=\"#000000\">gini = 0.444</text>\n",
       "<text text-anchor=\"middle\" x=\"224\" y=\"-22.8\" font-family=\"Times,serif\" font-size=\"14.00\" fill=\"#000000\">samples = 6</text>\n",
       "<text text-anchor=\"middle\" x=\"224\" y=\"-7.8\" font-family=\"Times,serif\" font-size=\"14.00\" fill=\"#000000\">value = [0, 2, 4]</text>\n",
       "</g>\n",
       "<!-- 3&#45;&gt;5 -->\n",
       "<g id=\"edge5\" class=\"edge\">\n",
       "<title>3&#45;&gt;5</title>\n",
       "<path fill=\"none\" stroke=\"#000000\" d=\"M211.6987,-88.9777C213.3394,-80.6449 215.1024,-71.6903 216.7669,-63.2364\"/>\n",
       "<polygon fill=\"#000000\" stroke=\"#000000\" points=\"220.2356,-63.7363 218.7335,-53.2485 213.3675,-62.3839 220.2356,-63.7363\"/>\n",
       "</g>\n",
       "<!-- 7 -->\n",
       "<g id=\"node8\" class=\"node\">\n",
       "<title>7</title>\n",
       "<polygon fill=\"#8139e5\" fill-opacity=\"0.498039\" stroke=\"#000000\" points=\"474.5,-53 343.5,-53 343.5,0 474.5,0 474.5,-53\"/>\n",
       "<text text-anchor=\"middle\" x=\"409\" y=\"-37.8\" font-family=\"Times,serif\" font-size=\"14.00\" fill=\"#000000\">gini = 0.444</text>\n",
       "<text text-anchor=\"middle\" x=\"409\" y=\"-22.8\" font-family=\"Times,serif\" font-size=\"14.00\" fill=\"#000000\">samples = 3</text>\n",
       "<text text-anchor=\"middle\" x=\"409\" y=\"-7.8\" font-family=\"Times,serif\" font-size=\"14.00\" fill=\"#000000\">value = [0, 1, 2]</text>\n",
       "</g>\n",
       "<!-- 6&#45;&gt;7 -->\n",
       "<g id=\"edge7\" class=\"edge\">\n",
       "<title>6&#45;&gt;7</title>\n",
       "<path fill=\"none\" stroke=\"#000000\" d=\"M420.6539,-88.9777C419.0996,-80.6449 417.4293,-71.6903 415.8524,-63.2364\"/>\n",
       "<polygon fill=\"#000000\" stroke=\"#000000\" points=\"419.2637,-62.4371 413.9894,-53.2485 412.3824,-63.7207 419.2637,-62.4371\"/>\n",
       "</g>\n",
       "<!-- 8 -->\n",
       "<g id=\"node9\" class=\"node\">\n",
       "<title>8</title>\n",
       "<polygon fill=\"#8139e5\" stroke=\"#000000\" points=\"633,-53 493,-53 493,0 633,0 633,-53\"/>\n",
       "<text text-anchor=\"middle\" x=\"563\" y=\"-37.8\" font-family=\"Times,serif\" font-size=\"14.00\" fill=\"#000000\">gini = 0.0</text>\n",
       "<text text-anchor=\"middle\" x=\"563\" y=\"-22.8\" font-family=\"Times,serif\" font-size=\"14.00\" fill=\"#000000\">samples = 43</text>\n",
       "<text text-anchor=\"middle\" x=\"563\" y=\"-7.8\" font-family=\"Times,serif\" font-size=\"14.00\" fill=\"#000000\">value = [0, 0, 43]</text>\n",
       "</g>\n",
       "<!-- 6&#45;&gt;8 -->\n",
       "<g id=\"edge8\" class=\"edge\">\n",
       "<title>6&#45;&gt;8</title>\n",
       "<path fill=\"none\" stroke=\"#000000\" d=\"M474.9485,-88.9777C488.628,-79.2713 503.4964,-68.7213 517.0534,-59.1018\"/>\n",
       "<polygon fill=\"#000000\" stroke=\"#000000\" points=\"519.1725,-61.8898 525.3027,-53.2485 515.1217,-56.1809 519.1725,-61.8898\"/>\n",
       "</g>\n",
       "</g>\n",
       "</svg>\n"
      ],
      "text/plain": [
       "<graphviz.files.Source at 0x7fea6e2e3d68>"
      ]
     },
     "execution_count": 117,
     "metadata": {},
     "output_type": "execute_result"
    }
   ],
   "source": [
    "import graphviz # the library we need to visualize trees and graphs\n",
    "\n",
    "# Define the visualization code as a function so we can reuse it later!\n",
    "def visualize_tree(clf):\n",
    "    dot_data = tree.export_graphviz(clf, feature_names=dataset['feature_names'], filled=True)\n",
    "    return graphviz.Source(dot_data)\n",
    "\n",
    "visualize_tree(classifier)"
   ]
  },
  {
   "cell_type": "markdown",
   "metadata": {},
   "source": [
    "__Questions:__\n",
    "1. This tree is very deep! Let's impose a maximum depth of 3 on the tree. Go back up to `classifier = tree.DecisionTreeClassifier()` and put `max_depth=3` in the parens. Re-run the training and visualization; what does the tree look like now?\n",
    "2. What is the interpretation of the colors in the tree?\n",
    "3. In each node of the tree, what is the relationship between the `samples = N` line and the `value = [...]` line?\n",
    "4. Notice that in all the teal and purple nodes, the first count in `value` is always zero. Why is that?\n",
    "5. What is the meaning of the `value` in each node?\n",
    "5. Invent three data points. Choose feature values so that the first point falls into the orange leaf; the second, into the teal leaf; and the third, into the most purple leaf. Recall that leaves are nodes with no children.\n",
    "   For example, a point with `petal width = 2.0` would follow the False branch of the root node. Choose the other parameters so that the point arrives at the desired classification."
   ]
  }
 ],
 "metadata": {
  "kernelspec": {
   "display_name": "Python 3",
   "language": "python",
   "name": "python3"
  },
  "language_info": {
   "codemirror_mode": {
    "name": "ipython",
    "version": 3
   },
   "file_extension": ".py",
   "mimetype": "text/x-python",
   "name": "python",
   "nbconvert_exporter": "python",
   "pygments_lexer": "ipython3",
   "version": "3.7.1"
  }
 },
 "nbformat": 4,
 "nbformat_minor": 2
}
