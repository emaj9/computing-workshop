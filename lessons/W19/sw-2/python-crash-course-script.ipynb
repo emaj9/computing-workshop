{
 "cells": [
  {
   "cell_type": "markdown",
   "metadata": {},
   "source": [
    "today: \n",
    "\n",
    "1. types, values, and variables\n",
    "\n",
    "2. functions\n",
    "\n",
    "3. control flow\n",
    "\n",
    "in Python! :D"
   ]
  },
  {
   "cell_type": "markdown",
   "metadata": {},
   "source": [
    "# types and values"
   ]
  },
  {
   "cell_type": "code",
   "execution_count": 20,
   "metadata": {},
   "outputs": [],
   "source": [
    "# hashtag comments a line, this won't be read by the computer\n",
    "# ctrl enter runs the code in the cell you're in, alt enter runs the current cell and makes a new one\n",
    "\n",
    "# let's start with imagining python is just a calculator"
   ]
  },
  {
   "cell_type": "markdown",
   "metadata": {},
   "source": [
    "Calculators (and Python) can understand whole numbers. Integers are _whole numbers_ and Python aptly calls these numbers _integers_ (or ints for short)."
   ]
  },
  {
   "cell_type": "code",
   "execution_count": 21,
   "metadata": {},
   "outputs": [
    {
     "data": {
      "text/plain": [
       "4"
      ]
     },
     "execution_count": 21,
     "metadata": {},
     "output_type": "execute_result"
    }
   ],
   "source": [
    "4 # int"
   ]
  },
  {
   "cell_type": "markdown",
   "metadata": {},
   "source": [
    "Calculators can also evaluate expressions! "
   ]
  },
  {
   "cell_type": "code",
   "execution_count": 22,
   "metadata": {},
   "outputs": [
    {
     "data": {
      "text/plain": [
       "3"
      ]
     },
     "execution_count": 22,
     "metadata": {},
     "output_type": "execute_result"
    }
   ],
   "source": [
    "# math!\n",
    "3 * 2 - 3"
   ]
  },
  {
   "cell_type": "markdown",
   "metadata": {},
   "source": [
    "Calculators also know about decimal numbers. Python calls decimals _floats_ because the number is \"floating\" between two ints."
   ]
  },
  {
   "cell_type": "code",
   "execution_count": 23,
   "metadata": {},
   "outputs": [
    {
     "data": {
      "text/plain": [
       "3.14"
      ]
     },
     "execution_count": 23,
     "metadata": {},
     "output_type": "execute_result"
    }
   ],
   "source": [
    "3.14 # floats"
   ]
  },
  {
   "cell_type": "markdown",
   "metadata": {},
   "source": [
    "Here is where Python is more complex. \n",
    "\n",
    "Python can also understand words, called _strings_ because they string together some character. Strings must be in single or double quotes."
   ]
  },
  {
   "cell_type": "code",
   "execution_count": 24,
   "metadata": {},
   "outputs": [
    {
     "data": {
      "text/plain": [
       "'hello!'"
      ]
     },
     "execution_count": 24,
     "metadata": {},
     "output_type": "execute_result"
    }
   ],
   "source": [
    "'hello!' #string "
   ]
  },
  {
   "cell_type": "markdown",
   "metadata": {},
   "source": [
    "Python also knows about logic, namely true or false. True are false are called _booleans_."
   ]
  },
  {
   "cell_type": "code",
   "execution_count": 25,
   "metadata": {},
   "outputs": [
    {
     "data": {
      "text/plain": [
       "True"
      ]
     },
     "execution_count": 25,
     "metadata": {},
     "output_type": "execute_result"
    }
   ],
   "source": [
    "not True == False #bool"
   ]
  },
  {
   "cell_type": "markdown",
   "metadata": {},
   "source": [
    "As we see, all data has two aspects to it: value and type. They are like two sides of a coin. We saw 4 basic types in Python. Now it's time to do some practice! \n",
    "\n",
    "*complete the types and values worksheet*"
   ]
  },
  {
   "cell_type": "markdown",
   "metadata": {},
   "source": [
    "### variables\n",
    "Variables are very useful in programming. We can think of variables like pointers to a value (and thus a type). The variable's value and type are synonymous to the thing it's pointing to."
   ]
  },
  {
   "cell_type": "code",
   "execution_count": 26,
   "metadata": {},
   "outputs": [
    {
     "data": {
      "text/plain": [
       "4"
      ]
     },
     "execution_count": 26,
     "metadata": {},
     "output_type": "execute_result"
    }
   ],
   "source": [
    "a = 4\n",
    "a # prints a"
   ]
  },
  {
   "cell_type": "code",
   "execution_count": 27,
   "metadata": {},
   "outputs": [
    {
     "data": {
      "text/plain": [
       "'Sage'"
      ]
     },
     "execution_count": 27,
     "metadata": {},
     "output_type": "execute_result"
    }
   ],
   "source": [
    "p1 = \"Sage\"\n",
    "p2 = \"Donatien\"\n",
    "p3 = \"Jeremy\"\n",
    "p4 = p1\n",
    "p4"
   ]
  },
  {
   "cell_type": "markdown",
   "metadata": {},
   "source": [
    "#### lists\n",
    "Programming languages also often have _data structure_, CS for data that can hold multiple values in it. Most intuitive example of a data structure is a list, which has things in it."
   ]
  },
  {
   "cell_type": "code",
   "execution_count": 28,
   "metadata": {},
   "outputs": [
    {
     "data": {
      "text/plain": [
       "['Sage', 'Donatien', 'Jeremy', 'Mariko', 'Priscrilia']"
      ]
     },
     "execution_count": 28,
     "metadata": {},
     "output_type": "execute_result"
    }
   ],
   "source": [
    "#list made with [], comma separated \n",
    "cw_participants = [p1, p2, p3, \"Mariko\", \"Priscrilia\"]\n",
    "cw_participants"
   ]
  },
  {
   "cell_type": "code",
   "execution_count": 29,
   "metadata": {},
   "outputs": [
    {
     "data": {
      "text/plain": [
       "'Mariko'"
      ]
     },
     "execution_count": 29,
     "metadata": {},
     "output_type": "execute_result"
    }
   ],
   "source": [
    "#we can look at one elem in the list thru its index\n",
    "cw_participants[3]"
   ]
  },
  {
   "cell_type": "markdown",
   "metadata": {},
   "source": [
    "Dictionaries are another data structure we're going to need to know about. They are just like we know them: they have a __key__ (like the word you're trying to look up in the dictionary) and a __value__ (the definition). It looks like this: "
   ]
  },
  {
   "cell_type": "code",
   "execution_count": 30,
   "metadata": {},
   "outputs": [],
   "source": [
    "#dictionary made with { key : value}\n",
    "areaCode = {\"mtl\" : 514, \"ott\" : 613, \"ny\" : 212}"
   ]
  },
  {
   "cell_type": "code",
   "execution_count": 31,
   "metadata": {},
   "outputs": [
    {
     "data": {
      "text/plain": [
       "514"
      ]
     },
     "execution_count": 31,
     "metadata": {},
     "output_type": "execute_result"
    }
   ],
   "source": [
    "#look up with key\n",
    "areaCode[\"mtl\"]"
   ]
  },
  {
   "cell_type": "markdown",
   "metadata": {},
   "source": [
    "Your turn! \n",
    "\n",
    "*complete next worksheet*"
   ]
  },
  {
   "cell_type": "markdown",
   "metadata": {},
   "source": [
    "# functions\n",
    "\n",
    "functions  are like operations of our calculator. They take in input (as many numbers as we want), do something to that input to get a single output, and return the output. \n",
    "\n",
    "Ex 3 + 3. We can think of the plus operator as a function that takes in 2 numbers, adds them together, and gives you the sum.  Let's make this is in code."
   ]
  },
  {
   "cell_type": "code",
   "execution_count": 39,
   "metadata": {},
   "outputs": [],
   "source": [
    "#functions start with the def keyword, meaning define\n",
    "#next is the name\n",
    "#then the inputs in parens\n",
    "def addition(x, y): # : starts the body\n",
    "    solution = x + y # indentation specifices what is in the body\n",
    "    return solution "
   ]
  },
  {
   "cell_type": "markdown",
   "metadata": {},
   "source": [
    "You call functions to do them. Calling a function is a lot like defining a function, you call the name and then pass the inputes in the parens."
   ]
  },
  {
   "cell_type": "code",
   "execution_count": 42,
   "metadata": {},
   "outputs": [
    {
     "data": {
      "text/plain": [
       "7"
      ]
     },
     "execution_count": 42,
     "metadata": {},
     "output_type": "execute_result"
    }
   ],
   "source": [
    "sum = addition(3, 4)\n",
    "sum"
   ]
  },
  {
   "cell_type": "markdown",
   "metadata": {},
   "source": [
    "Another function that has been happening all this time is the print function! In jupyter-notebook, if the last line of a cell is an expression, j-n will print the expression!"
   ]
  },
  {
   "cell_type": "code",
   "execution_count": 44,
   "metadata": {},
   "outputs": [
    {
     "name": "stdout",
     "output_type": "stream",
     "text": [
      "4\n"
     ]
    }
   ],
   "source": [
    "exp = 4\n",
    "print(exp)"
   ]
  },
  {
   "cell_type": "markdown",
   "metadata": {},
   "source": [
    "*complete function worksheet* "
   ]
  },
  {
   "cell_type": "markdown",
   "metadata": {},
   "source": [
    "# control flow\n",
    "\n",
    "Like we've been seeing, code runs from the top down in Python, one line at a time. One way we can control the flow of computer reading our code is using control flow statements like loops or if-else statements.\n",
    "\n",
    "For loops get the computer to read over a chunk of code a certain number of times (sometimes a counter)."
   ]
  },
  {
   "cell_type": "code",
   "execution_count": 45,
   "metadata": {},
   "outputs": [
    {
     "name": "stdout",
     "output_type": "stream",
     "text": [
      "are we there yet?\n",
      "are we there yet?\n",
      "are we there yet?\n",
      "are we there yet?\n",
      "are we there yet?\n",
      "are we there yet?\n",
      "are we there yet?\n",
      "are we there yet?\n",
      "are we there yet?\n",
      "are we there yet?\n"
     ]
    }
   ],
   "source": [
    "for i in range(10): #range counts up to 10 here\n",
    "    print(\"are we there yet?\")"
   ]
  },
  {
   "cell_type": "markdown",
   "metadata": {},
   "source": [
    "for loops don't just have to count, they can be more sophisticated. let's look at this for loops"
   ]
  },
  {
   "cell_type": "code",
   "execution_count": 35,
   "metadata": {},
   "outputs": [
    {
     "name": "stdout",
     "output_type": "stream",
     "text": [
      "hello Sage\n",
      "hello Donatien\n",
      "hello Jeremy\n",
      "hello Mariko\n",
      "hello Priscrilia\n",
      "and hi to everyone else!\n"
     ]
    }
   ],
   "source": [
    "for participant in cw_participants:\n",
    "    print(\"hello \" + participant)\n",
    "    \n",
    "    #same indentation rules as functions\n",
    "print(\"and hi to everyone else!\")"
   ]
  },
  {
   "cell_type": "markdown",
   "metadata": {},
   "source": [
    "If else is another way to control the flow too, and works just like we use them. \n",
    "If *some condition is met then do this thing* else *do fallback*. In Python the condition that must be met is written in parens and must evaluate to bool!"
   ]
  },
  {
   "cell_type": "code",
   "execution_count": 46,
   "metadata": {},
   "outputs": [
    {
     "name": "stdout",
     "output_type": "stream",
     "text": [
      "yep 3 is greater than 2\n"
     ]
    }
   ],
   "source": [
    "#3 > 2 evlautes to false (duh)\n",
    "if (3 > 2): \n",
    "    print(\"yep 3 is greater than 2\") \n",
    "else: print(\"uhhh what?\")"
   ]
  },
  {
   "cell_type": "markdown",
   "metadata": {},
   "source": [
    "*last activity is peer insturction on this question*"
   ]
  },
  {
   "cell_type": "code",
   "execution_count": null,
   "metadata": {},
   "outputs": [],
   "source": [
    "isFalse = False\n",
    "isfalse = not isFalse\n",
    "\n",
    "for i in range(5):\n",
    "    isFalse = not isFalse\n",
    "    \n",
    "if (isFalse): \n",
    "    isfalse = False\n",
    "else: \n",
    "    isfalse = not isFalse\n",
    "    \n",
    "print(\"isFalse is\" , isFalse , \"isfalse is\" , isfalse)"
   ]
  }
 ],
 "metadata": {
  "kernelspec": {
   "display_name": "Python 3",
   "language": "python",
   "name": "python3"
  },
  "language_info": {
   "codemirror_mode": {
    "name": "ipython",
    "version": 3
   },
   "file_extension": ".py",
   "mimetype": "text/x-python",
   "name": "python",
   "nbconvert_exporter": "python",
   "pygments_lexer": "ipython3",
   "version": "3.7.1"
  }
 },
 "nbformat": 4,
 "nbformat_minor": 2
}
