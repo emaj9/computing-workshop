{
 "cells": [
  {
   "cell_type": "code",
   "execution_count": 2,
   "metadata": {
    "scrolled": false
   },
   "outputs": [
    {
     "name": "stdout",
     "output_type": "stream",
     "text": [
      "0\n"
     ]
    }
   ],
   "source": [
    "#[PI] Control Flow Q1\n",
    "n = 3000\n",
    "r = 1\n",
    "while n >= 0:\n",
    "    r = r * n\n",
    "    n = n - 1\n",
    "print(r)"
   ]
  },
  {
   "cell_type": "markdown",
   "metadata": {},
   "source": [
    "```\n",
    " ___________________________________\n",
    "< go to https://pingo.upb.de/818352 >\n",
    " -----------------------------------\n",
    "        \\   ^__^\n",
    "         \\  (oo)\\_______\n",
    "            (__)\\       )\\/\\\n",
    "                ||----w |\n",
    "                ||     ||\n",
    "```\n"
   ]
  },
  {
   "cell_type": "code",
   "execution_count": null,
   "metadata": {},
   "outputs": [],
   "source": [
    "#[PI] Control Flow Q1 109515\n",
    "a = 0\n",
    "l = [1, 2, 3]\n",
    "x = 25\n",
    "\n",
    "while x != 0:\n",
    "    while x > 20:\n",
    "        a += 1\n",
    "        x -= 1\n",
    "    for elem in l:\n",
    "        a += elem\n",
    "    if x == 21:\n",
    "        a = 0\n",
    "    else:\n",
    "        x = 0\n",
    "        \n",
    "print(a)"
   ]
  },
  {
   "cell_type": "markdown",
   "metadata": {},
   "source": [
    "```\n",
    " ___________________________________\n",
    "< go to https://pingo.upb.de/109515 >\n",
    " -----------------------------------\n",
    "        \\   ^__^\n",
    "         \\  (oo)\\_______\n",
    "            (__)\\       )\\/\\\n",
    "                ||----w |\n",
    "                ||     ||\n",
    "```\n",
    "\n"
   ]
  },
  {
   "cell_type": "markdown",
   "metadata": {},
   "source": [
    "## Functions"
   ]
  },
  {
   "cell_type": "code",
   "execution_count": 4,
   "metadata": {},
   "outputs": [
    {
     "name": "stdout",
     "output_type": "stream",
     "text": [
      "None\n"
     ]
    }
   ],
   "source": [
    "#[PI] Functions Q1\n",
    "def function(x, y, z):\n",
    "    if x == y:\n",
    "        return 1\n",
    "    else:\n",
    "        y = 4\n",
    "        \n",
    "a = function(1, 2, 3)\n",
    "print(a)"
   ]
  },
  {
   "cell_type": "markdown",
   "metadata": {},
   "source": [
    "```\n",
    "____________________________________\n",
    "< go to https://pingo.upb.de/230582 >\n",
    " -----------------------------------\n",
    "        \\   ^__^\n",
    "         \\  (oo)\\_______\n",
    "            (__)\\       )\\/\\\n",
    "                ||----w |\n",
    "                ||     ||\n",
    "                ```"
   ]
  },
  {
   "cell_type": "code",
   "execution_count": null,
   "metadata": {},
   "outputs": [],
   "source": [
    "#[PI] Functions Q2\n",
    "def mystery(x, l):\n",
    "    i = 0\n",
    "    for y in l:\n",
    "        if x == y:\n",
    "            return i\n",
    "        else:\n",
    "            i += 1\n",
    "    return -1\n",
    "    \n",
    "a = mystery(3, [2, 5, 4, 3, 1])\n",
    "print(a)"
   ]
  },
  {
   "cell_type": "markdown",
   "metadata": {},
   "source": [
    "```\n",
    "____________________________________\n",
    "< go to https://pingo.upb.de/888309 >\n",
    " -----------------------------------\n",
    "        \\   ^__^\n",
    "         \\  (oo)\\_______\n",
    "            (__)\\       )\\/\\\n",
    "                ||----w |\n",
    "                ||     ||\n",
    "                \n",
    "                ```"
   ]
  }
 ],
 "metadata": {
  "kernelspec": {
   "display_name": "Python 3",
   "language": "python",
   "name": "python3"
  },
  "language_info": {
   "codemirror_mode": {
    "name": "ipython",
    "version": 3
   },
   "file_extension": ".py",
   "mimetype": "text/x-python",
   "name": "python",
   "nbconvert_exporter": "python",
   "pygments_lexer": "ipython3",
   "version": "3.7.2"
  }
 },
 "nbformat": 4,
 "nbformat_minor": 2
}
