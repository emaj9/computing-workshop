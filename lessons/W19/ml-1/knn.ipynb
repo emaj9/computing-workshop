{
 "cells": [
  {
   "cell_type": "code",
   "execution_count": 1,
   "metadata": {},
   "outputs": [],
   "source": [
    "from sklearn.datasets import load_breast_cancer\n",
    "from random import shuffle\n",
    "import math\n",
    "\n",
    "# Load the dataset.\n",
    "X, Y = load_breast_cancer(True)\n",
    "# X is a list of n entries, each of which is a list of 10 measurements related to the tumour\n",
    "# Y is a list of n entries, each of which is a number indicating whether \n",
    "# the corresponding tumour is malignant or benign\n",
    "\n",
    "# Malignant tumours are represented by 1.\n",
    "MALIGNANT = 1\n",
    "# Benign tumours are represented by a 0.\n",
    "BENIGN = 0"
   ]
  },
  {
   "cell_type": "code",
   "execution_count": 2,
   "metadata": {},
   "outputs": [],
   "source": [
    "# We want to populate our KNN with 100 entries from the dataset.\n",
    "data = []\n",
    "for i in range(100):\n",
    "    data.append( (X[i], Y[i]) )\n",
    "# Now _data_ is a list of pairs; each pair consists of\n",
    "# 1. a list of measurements\n",
    "# 2. a diagnosis (MALIGNANT or BENIGN)"
   ]
  },
  {
   "cell_type": "code",
   "execution_count": 3,
   "metadata": {},
   "outputs": [],
   "source": [
    "FEATURES = [0, 1]\n",
    "\n",
    "def classify(p, k):\n",
    "    closest_points = find_k_closest_points(p, k)\n",
    "    label = find_label_with_highest_count(closest_points)\n",
    "    return label\n",
    "\n",
    "def distance(p, q):\n",
    "    d = 0\n",
    "    for i in FEATURES:\n",
    "        d += (p[i] - q[i]) ** 2\n",
    "    return math.sqrt(d)\n",
    "\n",
    "def find_k_closest_points(p, k):\n",
    "    sorted_data = sorted(data, key=lambda q: distance(p, q[0]))\n",
    "    return sorted_data[:k]\n",
    "\n",
    "def find_label_with_highest_count(closest):\n",
    "    B = 0\n",
    "    M = 0\n",
    "    \n",
    "    for point in closest:\n",
    "        if point[1] == MALIGNANT:\n",
    "            M += 1\n",
    "        if point[1] == BENIGN:\n",
    "            B += 1\n",
    "            \n",
    "    if B > M:\n",
    "        return BENIGN\n",
    "    else:\n",
    "        return MALIGNANT"
   ]
  },
  {
   "cell_type": "code",
   "execution_count": 4,
   "metadata": {},
   "outputs": [
    {
     "data": {
      "text/plain": [
       "(0, 0)"
      ]
     },
     "execution_count": 4,
     "metadata": {},
     "output_type": "execute_result"
    }
   ],
   "source": [
    "n = 121\n",
    "classify(X[n], 3), Y[n]"
   ]
  },
  {
   "cell_type": "code",
   "execution_count": null,
   "metadata": {},
   "outputs": [],
   "source": []
  }
 ],
 "metadata": {
  "kernelspec": {
   "display_name": "Python 3",
   "language": "python",
   "name": "python3"
  },
  "language_info": {
   "codemirror_mode": {
    "name": "ipython",
    "version": 3
   },
   "file_extension": ".py",
   "mimetype": "text/x-python",
   "name": "python",
   "nbconvert_exporter": "python",
   "pygments_lexer": "ipython3",
   "version": "3.7.1"
  }
 },
 "nbformat": 4,
 "nbformat_minor": 2
}
