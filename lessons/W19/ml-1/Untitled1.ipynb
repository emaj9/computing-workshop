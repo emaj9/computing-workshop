{
 "cells": [
  {
   "cell_type": "code",
   "execution_count": 4,
   "metadata": {},
   "outputs": [
    {
     "name": "stdout",
     "output_type": "stream",
     "text": [
      "8\n"
     ]
    }
   ],
   "source": [
    "# this is anacona, and this is how you comment code!!\n",
    "a = 4\n",
    "a = a + a\n",
    "print(a)"
   ]
  },
  {
   "cell_type": "code",
   "execution_count": 8,
   "metadata": {},
   "outputs": [
    {
     "name": "stdout",
     "output_type": "stream",
     "text": [
      "Please come back when you're older\n"
     ]
    }
   ],
   "source": [
    "age = 17\n",
    "if age >= 18:\n",
    "    print(\"You can vote\")\n",
    "else:\n",
    "    print(\"Please come back when you're older\")"
   ]
  },
  {
   "cell_type": "code",
   "execution_count": 11,
   "metadata": {},
   "outputs": [
    {
     "name": "stdout",
     "output_type": "stream",
     "text": [
      "you're a teen\n"
     ]
    }
   ],
   "source": [
    "# SUmmary of comparisons\n",
    "age >= 23\n",
    "age <= 23\n",
    "age < 23\n",
    "age > 23\n",
    "age == 20\n",
    "\n",
    "# 10 <= age <= 20\n",
    "# if 10 <= age and age <= 20:\n",
    "if age >= 10 and 20 >= age: # age is between 10 and 20 inclusive?\n",
    "    print(\"you're a teen\")"
   ]
  },
  {
   "cell_type": "code",
   "execution_count": 13,
   "metadata": {},
   "outputs": [
    {
     "name": "stdout",
     "output_type": "stream",
     "text": [
      "You're too young; you're only 10 years old\n",
      "You're too young; you're only 11 years old\n",
      "You're too young; you're only 12 years old\n",
      "You're too young; you're only 13 years old\n",
      "You're too young; you're only 14 years old\n",
      "You're too young; you're only 15 years old\n",
      "You're too young; you're only 16 years old\n",
      "Only one more year left!!!\n",
      "You're old enough now!!\n"
     ]
    }
   ],
   "source": [
    "age = 10\n",
    "while age < 18:\n",
    "    if age == 17:\n",
    "        print(\"Only one more year left!!!\")\n",
    "    else:\n",
    "        print(\"You're too young; you're only\", age, \"years old\")\n",
    "    \n",
    "    age += 1 # he waits a year\n",
    "\n",
    "print(\"You're old enough now!!\")\n",
    "    # same as writing:\n",
    "    # age = age + 1"
   ]
  },
  {
   "cell_type": "code",
   "execution_count": 14,
   "metadata": {},
   "outputs": [],
   "source": [
    "## FUNCTIONS"
   ]
  },
  {
   "cell_type": "code",
   "execution_count": null,
   "metadata": {},
   "outputs": [],
   "source": []
  }
 ],
 "metadata": {
  "kernelspec": {
   "display_name": "Python 3",
   "language": "python",
   "name": "python3"
  },
  "language_info": {
   "codemirror_mode": {
    "name": "ipython",
    "version": 3
   },
   "file_extension": ".py",
   "mimetype": "text/x-python",
   "name": "python",
   "nbconvert_exporter": "python",
   "pygments_lexer": "ipython3",
   "version": "3.7.2"
  }
 },
 "nbformat": 4,
 "nbformat_minor": 2
}
