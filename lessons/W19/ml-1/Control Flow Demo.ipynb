{
 "cells": [
  {
   "cell_type": "code",
   "execution_count": null,
   "metadata": {
    "scrolled": true
   },
   "outputs": [],
   "source": [
    "# _if_ is used to conditionally execute a block of code\n",
    "# general syntax:\n",
    "if condition:\n",
    "    # block of code\n",
    "    pass"
   ]
  },
  {
   "cell_type": "code",
   "execution_count": null,
   "metadata": {},
   "outputs": [],
   "source": [
    "# Example\n",
    "age = 23\n",
    "if age >= 18:\n",
    "    print(\"You can vote.\")\n",
    "else:\n",
    "    print(\"You're too young to vote.\")"
   ]
  },
  {
   "cell_type": "markdown",
   "metadata": {},
   "source": [
    "If we change the variable age to some other value, then the block won't execute.\n",
    "We can add an _else_ statement to add a block of code that runs if the condition is _False_."
   ]
  },
  {
   "cell_type": "code",
   "execution_count": null,
   "metadata": {},
   "outputs": [],
   "source": [
    "# There are lots of _operators_ we can use to test variables for certain properties.\n",
    "age > 43 # strictly greater\n",
    "age >= 23 # greater than or equal\n",
    "age <= 16 # less than or equal\n",
    "age == 25 # exactly equal\n",
    "# You can also use boolean operators you know about\n",
    "\n",
    "if 10 <= age and age <= 20:\n",
    "    print(\"You're between 10 and 20 years old!\")"
   ]
  },
  {
   "cell_type": "markdown",
   "metadata": {},
   "source": [
    "We can use this same idea with the _while_ loop, which runs a block of code repeatedly while a condition is True."
   ]
  },
  {
   "cell_type": "code",
   "execution_count": null,
   "metadata": {},
   "outputs": [],
   "source": [
    "beers = 99\n",
    "while beers > 0:\n",
    "    print(beers, \"beers on the wall,\", beers, \"bottles of beer\")\n",
    "    print(\"Take one down, pass it around,\", beers - 1, \"bottles of beer on the wall\")\n",
    "    beers = beers - 1\n",
    "    # ^ This line is critical!\n",
    "    # Otherwise the value of _beers_ never decreases, and the loop will run forever."
   ]
  },
  {
   "cell_type": "markdown",
   "metadata": {},
   "source": [
    "A _function_ lets us define an abstract block of code that uses unknown values called _parameters_.\n",
    "Typically, a function computes some kind of result, and _returns_ it."
   ]
  },
  {
   "cell_type": "code",
   "execution_count": 1,
   "metadata": {},
   "outputs": [],
   "source": [
    "# Define the function _double_ with the _def_ keyword.\n",
    "# In parentheses, we list the parameters.\n",
    "def double(x):\n",
    "    # Compute the double of the parameter x\n",
    "    result = x * 2\n",
    "    # Return the result\n",
    "    return result"
   ]
  },
  {
   "cell_type": "markdown",
   "metadata": {},
   "source": [
    "We can _run_ a function after defining it by _calling_ it with specific values.\n",
    "\n",
    "To call a function, write its name followed by the values to use for the parameters in parentheses.\n",
    "If there are multiple parameters, we separate with spaces."
   ]
  },
  {
   "cell_type": "code",
   "execution_count": 2,
   "metadata": {},
   "outputs": [],
   "source": [
    "money_i_have = 100\n",
    "money_i_wish_i_had = double(money_i_have) # call the function"
   ]
  }
 ],
 "metadata": {
  "kernelspec": {
   "display_name": "Python 3",
   "language": "python",
   "name": "python3"
  },
  "language_info": {
   "codemirror_mode": {
    "name": "ipython",
    "version": 3
   },
   "file_extension": ".py",
   "mimetype": "text/x-python",
   "name": "python",
   "nbconvert_exporter": "python",
   "pygments_lexer": "ipython3",
   "version": "3.7.1"
  }
 },
 "nbformat": 4,
 "nbformat_minor": 2
}
