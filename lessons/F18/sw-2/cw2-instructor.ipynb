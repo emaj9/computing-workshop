{
 "cells": [
  {
   "cell_type": "markdown",
   "metadata": {},
   "source": [
    "today: \n",
    "\n",
    "1. types, values, and variables\n",
    "\n",
    "2. functions\n",
    "\n",
    "3. control flow\n",
    "\n",
    "in Python! :D"
   ]
  },
  {
   "cell_type": "code",
   "execution_count": 10,
   "metadata": {},
   "outputs": [],
   "source": [
    "# hashtag comments a line, this won't be read by the computer\n",
    "# ctrl enter runs the code in the cell you're in, where as alt enter runs the current cell and makes a new one\n",
    "# \n",
    "# In programming language, data (information) has a value, like 4, True, or \"hello!\"\n",
    "# all these values have a type. Types are groups of the same kind of values\n",
    "#\n",
    "# Let's see examples. What are some values?"
   ]
  },
  {
   "cell_type": "code",
   "execution_count": 11,
   "metadata": {},
   "outputs": [
    {
     "data": {
      "text/plain": [
       "4"
      ]
     },
     "execution_count": 11,
     "metadata": {},
     "output_type": "execute_result"
    }
   ],
   "source": [
    "4 #integers (ints)"
   ]
  },
  {
   "cell_type": "code",
   "execution_count": 12,
   "metadata": {},
   "outputs": [
    {
     "data": {
      "text/plain": [
       "'Eric'"
      ]
     },
     "execution_count": 12,
     "metadata": {},
     "output_type": "execute_result"
    }
   ],
   "source": [
    "'Eric' #strings, aka words"
   ]
  },
  {
   "cell_type": "code",
   "execution_count": 13,
   "metadata": {},
   "outputs": [
    {
     "data": {
      "text/plain": [
       "4.0"
      ]
     },
     "execution_count": 13,
     "metadata": {},
     "output_type": "execute_result"
    }
   ],
   "source": [
    "4.0 #floats, aka decimal"
   ]
  },
  {
   "cell_type": "code",
   "execution_count": 14,
   "metadata": {},
   "outputs": [
    {
     "data": {
      "text/plain": [
       "True"
      ]
     },
     "execution_count": 14,
     "metadata": {},
     "output_type": "execute_result"
    }
   ],
   "source": [
    "not True == False #boolean, aka logic "
   ]
  },
  {
   "cell_type": "markdown",
   "metadata": {},
   "source": [
    "Worksheet with the folowing questions\n",
    "\n",
    "First hypothesize about the answer then run in it Jupyter notebook\n",
    "\n",
    "What will the output value and type (if it runs) be for the following expressions.\n",
    "\n",
    "Expression | expected output value | expected output type | Were you right? If no, why?\n",
    "\n",
    "\"5\" + 5\n",
    "\n",
    "\"5 + 5\"\n",
    "\n",
    "\"five\" + \"five\"\n",
    "\n",
    "not True == not True\n",
    "\n",
    "not (True == True)\n",
    "\n",
    "5 + 4.0\n",
    " \n",
    "2/3\n"
   ]
  },
  {
   "cell_type": "markdown",
   "metadata": {},
   "source": [
    "# variables\n",
    "we can think of variables like pointers to a value.\n",
    "variables will have the same value and type as the thing its pointing to"
   ]
  },
  {
   "cell_type": "code",
   "execution_count": 16,
   "metadata": {},
   "outputs": [
    {
     "name": "stdout",
     "output_type": "stream",
     "text": [
      "4\n"
     ]
    }
   ],
   "source": [
    "a = 4\n",
    "a"
   ]
  },
  {
   "cell_type": "code",
   "execution_count": 19,
   "metadata": {},
   "outputs": [
    {
     "data": {
      "text/plain": [
       "'Sage'"
      ]
     },
     "execution_count": 19,
     "metadata": {},
     "output_type": "execute_result"
    }
   ],
   "source": [
    "p1 = \"Sage\"\n",
    "p2 = \"Donatien\"\n",
    "p3 = \"Jeremy\"\n",
    "p4 = p1\n",
    "p4"
   ]
  },
  {
   "cell_type": "code",
   "execution_count": 22,
   "metadata": {},
   "outputs": [
    {
     "data": {
      "text/plain": [
       "['Sage', 'Donatien', 'Jeremy', 'Mariko', 'Priscrilia']"
      ]
     },
     "execution_count": 22,
     "metadata": {},
     "output_type": "execute_result"
    }
   ],
   "source": [
    "#there are more complicated data types too, like lists which contain a bunch of values inside it\n",
    "cw_participants = [p1, p2, p3, \"Mariko\", \"Priscrilia\"]\n",
    "cw_participants"
   ]
  },
  {
   "cell_type": "code",
   "execution_count": 23,
   "metadata": {},
   "outputs": [
    {
     "data": {
      "text/plain": [
       "'Mariko'"
      ]
     },
     "execution_count": 23,
     "metadata": {},
     "output_type": "execute_result"
    }
   ],
   "source": [
    "#we can extract a particular element in a list like so\n",
    "cw_participants[3]"
   ]
  },
  {
   "cell_type": "code",
   "execution_count": 26,
   "metadata": {},
   "outputs": [],
   "source": [
    "#another data structure (things that contain data) we'll need to know is dictionary\n",
    "#these are as you know them IRL, they have words (or keys) and some other value\n",
    "areaCode = {\"mtl\" : 514, \"ott\" : 613, \"ny\" : 212}"
   ]
  },
  {
   "cell_type": "code",
   "execution_count": 29,
   "metadata": {},
   "outputs": [
    {
     "data": {
      "text/plain": [
       "514"
      ]
     },
     "execution_count": 29,
     "metadata": {},
     "output_type": "execute_result"
    }
   ],
   "source": [
    "#you pull elems out of a dict like a list (with []) but the index is the key of the dict\n",
    "areaCode[\"mtl\"]"
   ]
  },
  {
   "cell_type": "markdown",
   "metadata": {},
   "source": [
    "Worksheet\n",
    "\n",
    "Guess, test, and explain for each statement\n",
    "\n",
    "a = 4\n",
    "b = 5\n",
    "a = b\n",
    "c = a + b\n",
    "\n",
    "d = \"man\"\n",
    "e + d\n",
    "e = \"pac\"\n",
    "\n",
    "grades = [100, 70.5, f, B]\n",
    "grades[2]\n",
    "\n",
    "`poutine = [\"cheese curds\", \"gravy\", fries\"]`\n",
    "`grocery_list = [\"milk\", \"coffee\", poutine]`\n",
    "grocery_list\n",
    "\n"
   ]
  },
  {
   "cell_type": "markdown",
   "metadata": {},
   "source": [
    "# functions\n",
    "\n",
    "functions are like calculations. They: take in input, do something to that input to get an output, and return the output\n",
    "think of 3 + 3. We can think of the + operator as a function that takes in 2 numbers, adds them together, and gives you that. Let's make this is in code."
   ]
  },
  {
   "cell_type": "code",
   "execution_count": 30,
   "metadata": {},
   "outputs": [],
   "source": [
    "#functions start with the def keyword, which lets the computer know you're about to define a function\n",
    "#functions also end with parenthesis, and inside you assign variables to the inputs (comma seperation), known as parameters\n",
    "# : starts the body of the function, and the body is indented, this is a syntax rule and makes Python pretty\n",
    "def addition(x, y): \n",
    "    solution = x + y\n",
    "    #return is another key word that specifics the output of the function\n",
    "    return solution"
   ]
  },
  {
   "cell_type": "code",
   "execution_count": 34,
   "metadata": {},
   "outputs": [
    {
     "name": "stdout",
     "output_type": "stream",
     "text": [
      "7\n"
     ]
    }
   ],
   "source": [
    "#you need to call functions to use them. the syntax is a lot like defining a function!\n",
    "#typically you want to store the output of a function into a variable\n",
    "sum = addition(3, 4)\n",
    "#lets print the sum\n",
    "print(sum)\n",
    "\n",
    "#python has a bunch of built in functions we're learn through doing, such as print"
   ]
  },
  {
   "cell_type": "markdown",
   "metadata": {},
   "source": [
    "questions\n",
    "\n",
    "in the following code snipet\n",
    "\n",
    "def motivation (name):\n",
    "    greeting = \"Keep it up \" + name + \", you got this!\"\n",
    "    return greeting\n",
    "    \n",
    "What is the name of this function?\n",
    "\n",
    "What are its parameters?\n",
    "\n",
    "What is the input and output type of this function?\n",
    "\n",
    "How would you call this function on your own name and get it to print the greeting?   "
   ]
  },
  {
   "cell_type": "markdown",
   "metadata": {},
   "source": [
    "# control flow\n",
    "\n",
    "Like we've been seeing, code runs from the top down in Python, one line at a time. We can control the flow of computer reading our code using control flow statements like loops or if-else statements."
   ]
  },
  {
   "cell_type": "code",
   "execution_count": 41,
   "metadata": {},
   "outputs": [
    {
     "name": "stdout",
     "output_type": "stream",
     "text": [
      "are we there yet?\n",
      "are we there yet?\n",
      "are we there yet?\n",
      "are we there yet?\n",
      "are we there yet?\n",
      "are we there yet?\n",
      "are we there yet?\n",
      "are we there yet?\n",
      "are we there yet?\n",
      "are we there yet?\n"
     ]
    }
   ],
   "source": [
    "#for loops are as the name suggests: a chunk of code will be looped over *for* a certain number of times.\n",
    "#often times a counter will increment until a stop condition is met. let's simulate a family road trip to florida\n",
    "for i in range(10):\n",
    "    print(\"are we there yet?\")"
   ]
  },
  {
   "cell_type": "code",
   "execution_count": 60,
   "metadata": {},
   "outputs": [
    {
     "name": "stdout",
     "output_type": "stream",
     "text": [
      "hello Sage\n",
      "hello Donatien\n",
      "hello Jeremy\n",
      "hello Mariko\n",
      "hello Priscrilia\n",
      "and hi to everyone else!\n"
     ]
    }
   ],
   "source": [
    "#for loops don't just have to count, they can be more sophisticated. let's look at this for loops\n",
    "for participant in cw_participants:\n",
    "    print(\"hello \" + participant)\n",
    "    #notice the identation here.\n",
    "    #let's say I wanted to say hi to everyone else, i would do it outside the for loop indentation. let's compare\n",
    "print(\"and hi to everyone else!\")"
   ]
  },
  {
   "cell_type": "code",
   "execution_count": 64,
   "metadata": {},
   "outputs": [
    {
     "name": "stdout",
     "output_type": "stream",
     "text": [
      "yep 3 is greater than 2\n"
     ]
    }
   ],
   "source": [
    "#if else is also a great way to control the code too. if else works just like it does in English. \n",
    "\n",
    "#in the if statement's parens is an expression that evlauates to a boolean True or False\n",
    "if (3 > 2): \n",
    "    #inside is indented\n",
    "    print(\"yep 3 is greater than 2\") \n",
    "#else will happen if if doesn't happen\n",
    "else: print(\"uhhh what?\")"
   ]
  },
  {
   "cell_type": "code",
   "execution_count": null,
   "metadata": {},
   "outputs": [],
   "source": [
    "questions \n",
    "\n"
   ]
  }
 ],
 "metadata": {
  "kernelspec": {
   "display_name": "Python 3",
   "language": "python",
   "name": "python3"
  },
  "language_info": {
   "codemirror_mode": {
    "name": "ipython",
    "version": 3
   },
   "file_extension": ".py",
   "mimetype": "text/x-python",
   "name": "python",
   "nbconvert_exporter": "python",
   "pygments_lexer": "ipython3",
   "version": "3.7.1"
  }
 },
 "nbformat": 4,
 "nbformat_minor": 2
}
