{
 "cells": [
  {
   "cell_type": "code",
   "execution_count": null,
   "id": "efad8da2-337f-4fe5-89e5-726c87d968cc",
   "metadata": {},
   "outputs": [],
   "source": [
    "import matplotlib.pyplot as plt\n",
    "import pandas as pd\n",
    "import numpy as np"
   ]
  },
  {
   "cell_type": "code",
   "execution_count": null,
   "id": "e1b12728-38dc-40f7-89ef-51a320e3fe2c",
   "metadata": {},
   "outputs": [],
   "source": [
    "dataset = pd.read_csv('combined-data-partially-cleaned.csv') # adjust according to the name of your file"
   ]
  },
  {
   "cell_type": "code",
   "execution_count": null,
   "id": "beb7528c-896d-47cb-9d69-ae0d04ce6cfa",
   "metadata": {},
   "outputs": [],
   "source": [
    "# Paste in here the cleaning logic from yesterday's notebook that nicely normalizes this dataset\n",
    "pass"
   ]
  },
  {
   "cell_type": "markdown",
   "id": "2697dcc7-040f-4786-a7fc-49e4058494fe",
   "metadata": {},
   "source": [
    "### Visualizing this dataset\n",
    "\n",
    "Since a color is representing as a point in a 3D space, we can create a 3D scatter plot to chart the points. We color the points themselves according to the color that the point represents!\n",
    "\n",
    "3D scatter plots are difficult to interpret, since data \"in front\" blocks the view of data \"behind\". To address this, we want to show the same scatter plot from many angles."
   ]
  },
  {
   "cell_type": "code",
   "execution_count": null,
   "id": "16c8d3b1-f44f-4424-b939-aeaf2d289680",
   "metadata": {},
   "outputs": [],
   "source": [
    "fig, axs = plt.subplots(3, 3, figsize=(18, 12), subplot_kw={'projection': '3d'})\n",
    "# ^ create a figure containing 9 'subplots' (3 rows x 3 columns of plots)\n",
    "\n",
    "# Angles to view the data from. There are 9 of these.\n",
    "# Try messing with some of these angles if you want to get a different look!\n",
    "angles = [(30, 30), (30, 45), (30, 60), (30, 75), (30, 105), (30, 120), (30, 135), (30, 150), (30, 165)]\n",
    "\n",
    "# Normalize RGB values to [0, 1] range for display\n",
    "# If you get errors about values out of range,\n",
    "# edit the CSV file in a text editor to remove any rows containing values exceeding 255\n",
    "colors = dataset[['R','G','B']] / 255.0\n",
    "\n",
    "# Plot the data from the different angles\n",
    "for ax, angle in zip(axs.flat, angles):\n",
    "    # Scatter plot with colors\n",
    "    ax.scatter(dataset['R'], dataset['G'], dataset['B'], c=colors, s=100)\n",
    "    ax.view_init(elev=angle[0], azim=angle[1])\n",
    "    ax.set_xlabel('Red')\n",
    "    ax.set_ylabel('Green')\n",
    "    ax.set_zlabel('Blue')\n",
    "\n",
    "plt.tight_layout()\n",
    "plt.show()"
   ]
  },
  {
   "cell_type": "markdown",
   "id": "a6afd3bf-f156-4aee-b4b8-f887858a9442",
   "metadata": {},
   "source": [
    "### Reanalyzing the colors\n",
    "\n",
    "Perhaps the reason we keep getting shoddy performance with our color classifier is that the labels aren't very good. After all, we applied this funny word splitting technique. Let's see what colors the _computer_ thinks are present in our dataset. To do this, we'll apply a K-means clustering to the dataset. Choose an initial K according to how many different colors you think are present in the visualization above."
   ]
  },
  {
   "cell_type": "code",
   "execution_count": null,
   "id": "c4288fed-abac-46c9-af1f-e226ec8f00a4",
   "metadata": {},
   "outputs": [],
   "source": [
    "from sklearn.cluster import KMeans"
   ]
  },
  {
   "cell_type": "markdown",
   "id": "1e42d2cb-cc30-4176-b8f1-72ed9dd6e01b",
   "metadata": {},
   "source": [
    "Fill in the `???` below!"
   ]
  },
  {
   "cell_type": "code",
   "execution_count": null,
   "id": "a8c7de36-b80e-4430-9490-c13ee1f1dcd5",
   "metadata": {},
   "outputs": [],
   "source": [
    "COLOR_COUNT = ???\n",
    "km = KMeans(n_clusters=COLOR_COUNT)"
   ]
  },
  {
   "cell_type": "code",
   "execution_count": null,
   "id": "585df34e-6135-4d36-8f1c-99d2cd6d54b2",
   "metadata": {
    "scrolled": true
   },
   "outputs": [],
   "source": [
    "# In this cell, fit the `km` clustering to the data. Check the docs or use chatgpt to see precisely how.\n",
    "pass"
   ]
  },
  {
   "cell_type": "markdown",
   "id": "8a6ff5bd-92b8-485a-b60f-658c15fa179c",
   "metadata": {},
   "source": [
    "### Visualizing the clusters\n",
    "\n",
    "K-means, as part of its fitting process, computes a _centroid_ for each cluster that it identifies. In a sense, the centroid acts as a _representative_ for that cluster, since its value is the mean of the points in that cluster.\n",
    "\n",
    "In our case, the centroid's value is again an RGB triplet, so we can visualize the centroid together with some of its corresponding cluster's members to see if our cluster makes sense."
   ]
  },
  {
   "cell_type": "code",
   "execution_count": null,
   "id": "1e515135-e90e-417a-bfdc-69e5144b91cd",
   "metadata": {},
   "outputs": [],
   "source": [
    "COLUMN_COUNT = 20\n",
    "fig, axs = plt.subplots(COLOR_COUNT, COLUMN_COUNT, figsize=(2 * COLUMN_COUNT, 5 * COLOR_COUNT))\n",
    "\n",
    "# Iterate over the RGB triplets and display each color\n",
    "for i, (ax_row, centroid) in enumerate(zip(axs, km.cluster_centers_)):\n",
    "    ax_row[0].imshow(np.full((10, 10, 3), centroid/255))\n",
    "    ax_row[0].axis('off')  # Hide the axes\n",
    "    members = np.array(X[km.labels_ == i])\n",
    "    for ax, member in zip(ax_row[1:], members):\n",
    "        ax.imshow(np.full((10, 10, 3), member/255))\n",
    "        ax.axis('off')\n",
    "\n",
    "# Show plot\n",
    "plt.tight_layout()\n",
    "plt.show()"
   ]
  },
  {
   "cell_type": "markdown",
   "id": "3a96197e-130b-4ed5-8bda-aea2fb2ca2c4",
   "metadata": {},
   "source": [
    "### Interpreting the clusters\n",
    "\n",
    "Do these clusters align with your expectations? Why or why not? If not, speculate about why K-means finds the clusters that it does instead of the ones you expect."
   ]
  },
  {
   "cell_type": "markdown",
   "id": "f51d0bf1-b3df-4aa1-9d2b-0d55e1612d92",
   "metadata": {},
   "source": [
    "### Finding the best number of clusters\n",
    "\n",
    "The _silhouette score_ gives a metric to evaluate a clustering.\n",
    "\n",
    "To refresh your memory or learn more about what the silhouette score represents, [the sklearn documentation](https://scikit-learn.org/stable/modules/generated/sklearn.metrics.silhouette_score.html) gives a concise explanation."
   ]
  },
  {
   "cell_type": "code",
   "execution_count": null,
   "id": "3a060627-449d-4b55-a6d2-7688835efb4d",
   "metadata": {},
   "outputs": [],
   "source": [
    "from sklearn.metrics import silhouette_score"
   ]
  },
  {
   "cell_type": "code",
   "execution_count": null,
   "id": "2a7423b2-5640-4acb-8462-9d381da2a4ff",
   "metadata": {},
   "outputs": [],
   "source": [
    "# In this cell, calculate the silhouette score for the clustering done above.\n",
    "# Try to improve the silhouette score by adjusting the number of clusters and rerunning the notebook from that point.\n",
    "pass"
   ]
  }
 ],
 "metadata": {
  "kernelspec": {
   "display_name": "Python 3 (ipykernel)",
   "language": "python",
   "name": "python3"
  },
  "language_info": {
   "codemirror_mode": {
    "name": "ipython",
    "version": 3
   },
   "file_extension": ".py",
   "mimetype": "text/x-python",
   "name": "python",
   "nbconvert_exporter": "python",
   "pygments_lexer": "ipython3",
   "version": "3.12.4"
  }
 },
 "nbformat": 4,
 "nbformat_minor": 5
}
